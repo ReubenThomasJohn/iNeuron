{
 "cells": [
  {
   "cell_type": "code",
   "execution_count": 1,
   "metadata": {},
   "outputs": [
    {
     "name": "stdout",
     "output_type": "stream",
     "text": [
      "Enter the number of max stars in the middle row: 6\n",
      "* \n",
      "* * \n",
      "* * * \n",
      "* * * * \n",
      "* * * * * \n",
      "* * * * * * \n",
      "* * * * * \n",
      "* * * * \n",
      "* * * \n",
      "* * \n",
      "* \n",
      "\n"
     ]
    }
   ],
   "source": [
    "rows = int(input('Enter the number of max stars in the middle row: '))\n",
    "for i in range(0,rows):\n",
    "    for j in range(0, i+1):\n",
    "        print('*', end = \" \")\n",
    "        \n",
    "    print('\\r')\n",
    "\n",
    "for i in range(rows, 0, -1):\n",
    "    for j in range(0, i-1):\n",
    "        print('*', end = \" \")\n",
    "\n",
    "    print('\\r')"
   ]
  },
  {
   "cell_type": "code",
   "execution_count": 1,
   "metadata": {},
   "outputs": [
    {
     "name": "stdout",
     "output_type": "stream",
     "text": [
      "Enter the word to be reversedReyveb Thomas\n",
      "samohT bevyeR"
     ]
    }
   ],
   "source": [
    "Word = list(input(\"Enter the word to be reversed: \"))\n",
    "Word.reverse()\n",
    "for w in Word:\n",
    "    print(w, end = \"\")"
   ]
  },
  {
   "cell_type": "code",
   "execution_count": null,
   "metadata": {},
   "outputs": [],
   "source": []
  }
 ],
 "metadata": {
  "kernelspec": {
   "display_name": "Python 3",
   "language": "python",
   "name": "python3"
  },
  "language_info": {
   "codemirror_mode": {
    "name": "ipython",
    "version": 3
   },
   "file_extension": ".py",
   "mimetype": "text/x-python",
   "name": "python",
   "nbconvert_exporter": "python",
   "pygments_lexer": "ipython3",
   "version": "3.8.5"
  }
 },
 "nbformat": 4,
 "nbformat_minor": 4
}
